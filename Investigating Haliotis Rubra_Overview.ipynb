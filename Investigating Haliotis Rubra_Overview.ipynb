{
 "cells": [
  {
   "cell_type": "markdown",
   "metadata": {},
   "source": [
    "I am reading in the abalone dataset from UC Irvine's Machine Learning repository. For the purpose of this project I am investigating data of Blacklip Abalone (subspecies: Haliotis rubra). The reason why I have chosen this dataset rests largely in the fact that Blacklip Abalone are a species victim to artificial farming and environmental concerns such as overfishing and environment deterioration. By investigating a sample of an already diminishing wild population I hope to gain some insights before this subspecies goes extinct in the near future."
   ]
  },
  {
   "cell_type": "code",
   "execution_count": 1,
   "metadata": {},
   "outputs": [
    {
     "data": {
      "text/html": [
       "<table>\n",
       "<thead><tr><th scope=col>Sex</th><th scope=col>Length</th><th scope=col>Diameter</th><th scope=col>Height</th><th scope=col>Whole.weight</th><th scope=col>Shucked.weight</th><th scope=col>Viscera.weight</th><th scope=col>Shell.weight</th><th scope=col>Rings</th></tr></thead>\n",
       "<tbody>\n",
       "\t<tr><td>M     </td><td>0.455 </td><td>0.365 </td><td>0.095 </td><td>0.5140</td><td>0.2245</td><td>0.1010</td><td>0.150 </td><td>15    </td></tr>\n",
       "\t<tr><td>M     </td><td>0.350 </td><td>0.265 </td><td>0.090 </td><td>0.2255</td><td>0.0995</td><td>0.0485</td><td>0.070 </td><td> 7    </td></tr>\n",
       "\t<tr><td>F     </td><td>0.530 </td><td>0.420 </td><td>0.135 </td><td>0.6770</td><td>0.2565</td><td>0.1415</td><td>0.210 </td><td> 9    </td></tr>\n",
       "\t<tr><td>M     </td><td>0.440 </td><td>0.365 </td><td>0.125 </td><td>0.5160</td><td>0.2155</td><td>0.1140</td><td>0.155 </td><td>10    </td></tr>\n",
       "\t<tr><td>I     </td><td>0.330 </td><td>0.255 </td><td>0.080 </td><td>0.2050</td><td>0.0895</td><td>0.0395</td><td>0.055 </td><td> 7    </td></tr>\n",
       "\t<tr><td>I     </td><td>0.425 </td><td>0.300 </td><td>0.095 </td><td>0.3515</td><td>0.1410</td><td>0.0775</td><td>0.120 </td><td> 8    </td></tr>\n",
       "</tbody>\n",
       "</table>\n"
      ],
      "text/latex": [
       "\\begin{tabular}{r|lllllllll}\n",
       " Sex & Length & Diameter & Height & Whole.weight & Shucked.weight & Viscera.weight & Shell.weight & Rings\\\\\n",
       "\\hline\n",
       "\t M      & 0.455  & 0.365  & 0.095  & 0.5140 & 0.2245 & 0.1010 & 0.150  & 15    \\\\\n",
       "\t M      & 0.350  & 0.265  & 0.090  & 0.2255 & 0.0995 & 0.0485 & 0.070  &  7    \\\\\n",
       "\t F      & 0.530  & 0.420  & 0.135  & 0.6770 & 0.2565 & 0.1415 & 0.210  &  9    \\\\\n",
       "\t M      & 0.440  & 0.365  & 0.125  & 0.5160 & 0.2155 & 0.1140 & 0.155  & 10    \\\\\n",
       "\t I      & 0.330  & 0.255  & 0.080  & 0.2050 & 0.0895 & 0.0395 & 0.055  &  7    \\\\\n",
       "\t I      & 0.425  & 0.300  & 0.095  & 0.3515 & 0.1410 & 0.0775 & 0.120  &  8    \\\\\n",
       "\\end{tabular}\n"
      ],
      "text/markdown": [
       "\n",
       "| Sex | Length | Diameter | Height | Whole.weight | Shucked.weight | Viscera.weight | Shell.weight | Rings |\n",
       "|---|---|---|---|---|---|---|---|---|\n",
       "| M      | 0.455  | 0.365  | 0.095  | 0.5140 | 0.2245 | 0.1010 | 0.150  | 15     |\n",
       "| M      | 0.350  | 0.265  | 0.090  | 0.2255 | 0.0995 | 0.0485 | 0.070  |  7     |\n",
       "| F      | 0.530  | 0.420  | 0.135  | 0.6770 | 0.2565 | 0.1415 | 0.210  |  9     |\n",
       "| M      | 0.440  | 0.365  | 0.125  | 0.5160 | 0.2155 | 0.1140 | 0.155  | 10     |\n",
       "| I      | 0.330  | 0.255  | 0.080  | 0.2050 | 0.0895 | 0.0395 | 0.055  |  7     |\n",
       "| I      | 0.425  | 0.300  | 0.095  | 0.3515 | 0.1410 | 0.0775 | 0.120  |  8     |\n",
       "\n"
      ],
      "text/plain": [
       "  Sex Length Diameter Height Whole.weight Shucked.weight Viscera.weight\n",
       "1 M   0.455  0.365    0.095  0.5140       0.2245         0.1010        \n",
       "2 M   0.350  0.265    0.090  0.2255       0.0995         0.0485        \n",
       "3 F   0.530  0.420    0.135  0.6770       0.2565         0.1415        \n",
       "4 M   0.440  0.365    0.125  0.5160       0.2155         0.1140        \n",
       "5 I   0.330  0.255    0.080  0.2050       0.0895         0.0395        \n",
       "6 I   0.425  0.300    0.095  0.3515       0.1410         0.0775        \n",
       "  Shell.weight Rings\n",
       "1 0.150        15   \n",
       "2 0.070         7   \n",
       "3 0.210         9   \n",
       "4 0.155        10   \n",
       "5 0.055         7   \n",
       "6 0.120         8   "
      ]
     },
     "metadata": {},
     "output_type": "display_data"
    }
   ],
   "source": [
    "col_names = c(\"Sex\", \"Length\", \"Diameter\", \"Height\", \"Whole.weight\", \"Shucked.weight\", \"Viscera.weight\", \"Shell.weight\", \"Rings\")\n",
    "abalone <- read.table('http://archive.ics.uci.edu/ml/machine-learning-databases/abalone/abalone.data', sep=\",\" , col.names=col_names)\n",
    "head(abalone)"
   ]
  },
  {
   "cell_type": "markdown",
   "metadata": {},
   "source": [
    "### Description of variables in context :\n",
    "\n",
    "\n",
    "**Sex:** Male (M), Female (F), and Infant (I)\n",
    "\n",
    "**Length:** Longest shell measurement (mm)\n",
    " \n",
    "**Diameter:** Measurement perpendicular to length (mm)\n",
    "\n",
    "**Height:** Height as measured with with meat in shell (mm)\n",
    " \n",
    "**Whole weight:** whole abalone weight pre-bleeding (grams)\n",
    "\n",
    "**Shucked weight:** weight of meat (grams)\n",
    "\n",
    "**Viscera weight:** gut weight post-bleeding (grams)\n",
    "\n",
    "**Shell weight:** weight after being dried (grams)\n",
    "\n",
    "**Rings:** Integer number of rings per specimen "
   ]
  },
  {
   "cell_type": "markdown",
   "metadata": {},
   "source": [
    "Before performing any rigorous statistical tests, I first check to see if any NA values exist in this dataset:"
   ]
  },
  {
   "cell_type": "code",
   "execution_count": 2,
   "metadata": {},
   "outputs": [
    {
     "data": {
      "text/html": [
       "FALSE"
      ],
      "text/latex": [
       "FALSE"
      ],
      "text/markdown": [
       "FALSE"
      ],
      "text/plain": [
       "[1] FALSE"
      ]
     },
     "metadata": {},
     "output_type": "display_data"
    }
   ],
   "source": [
    "any(is.na(abalone))\n",
    "# no NA values exist"
   ]
  },
  {
   "cell_type": "markdown",
   "metadata": {},
   "source": [
    "As part of my initial exploration I use the summary() command to see how data is distributed across each of our variables of interest. From my observation, Length and Diameter have similar variance as both look to be equally spread out from their mean. This is likely due to the fact Diameter is the measurement taken perpendicular to Length."
   ]
  },
  {
   "cell_type": "code",
   "execution_count": 3,
   "metadata": {},
   "outputs": [
    {
     "data": {
      "text/plain": [
       " Sex          Length         Diameter          Height        Whole.weight   \n",
       " F:1307   Min.   :0.075   Min.   :0.0550   Min.   :0.0000   Min.   :0.0020  \n",
       " I:1342   1st Qu.:0.450   1st Qu.:0.3500   1st Qu.:0.1150   1st Qu.:0.4415  \n",
       " M:1528   Median :0.545   Median :0.4250   Median :0.1400   Median :0.7995  \n",
       "          Mean   :0.524   Mean   :0.4079   Mean   :0.1395   Mean   :0.8287  \n",
       "          3rd Qu.:0.615   3rd Qu.:0.4800   3rd Qu.:0.1650   3rd Qu.:1.1530  \n",
       "          Max.   :0.815   Max.   :0.6500   Max.   :1.1300   Max.   :2.8255  \n",
       " Shucked.weight   Viscera.weight    Shell.weight        Rings       \n",
       " Min.   :0.0010   Min.   :0.0005   Min.   :0.0015   Min.   : 1.000  \n",
       " 1st Qu.:0.1860   1st Qu.:0.0935   1st Qu.:0.1300   1st Qu.: 8.000  \n",
       " Median :0.3360   Median :0.1710   Median :0.2340   Median : 9.000  \n",
       " Mean   :0.3594   Mean   :0.1806   Mean   :0.2388   Mean   : 9.934  \n",
       " 3rd Qu.:0.5020   3rd Qu.:0.2530   3rd Qu.:0.3290   3rd Qu.:11.000  \n",
       " Max.   :1.4880   Max.   :0.7600   Max.   :1.0050   Max.   :29.000  "
      ]
     },
     "metadata": {},
     "output_type": "display_data"
    }
   ],
   "source": [
    "summary(abalone)"
   ]
  },
  {
   "cell_type": "markdown",
   "metadata": {},
   "source": [
    "Confirm the above hypothesis by looking at variance of each variable:"
   ]
  },
  {
   "cell_type": "code",
   "execution_count": 4,
   "metadata": {},
   "outputs": [
    {
     "data": {
      "text/html": [
       "0.00984855103022665"
      ],
      "text/latex": [
       "0.00984855103022665"
      ],
      "text/markdown": [
       "0.00984855103022665"
      ],
      "text/plain": [
       "[1] 0.009848551"
      ]
     },
     "metadata": {},
     "output_type": "display_data"
    },
    {
     "data": {
      "text/html": [
       "0.0144223076482966"
      ],
      "text/latex": [
       "0.0144223076482966"
      ],
      "text/markdown": [
       "0.0144223076482966"
      ],
      "text/plain": [
       "[1] 0.01442231"
      ]
     },
     "metadata": {},
     "output_type": "display_data"
    }
   ],
   "source": [
    "var(abalone$Diameter)\n",
    "var(abalone$Length)"
   ]
  },
  {
   "cell_type": "markdown",
   "metadata": {},
   "source": [
    "Moving onto visualzing my data I want to first compare the number of Rings across the different \"Sex\" that are part of this dataset. "
   ]
  },
  {
   "cell_type": "code",
   "execution_count": 5,
   "metadata": {},
   "outputs": [
    {
     "data": {
      "image/png": "[encoded data removed]",
      "text/plain": [
       "plot without title"
      ]
     },
     "metadata": {},
     "output_type": "display_data"
    }
   ],
   "source": [
    "boxplot(Rings~Sex, col = c('blue','red','green'),data=abalone)"
   ]
  },
  {
   "cell_type": "markdown",
   "metadata": {},
   "source": [
    "Based on the above boxplot it appears that Female and Male abalone roughly follow the same distribution with both having median Ring counts of roughly 10. In addition the Female and Male distribution appear to be more right skewed than the Infant subset. "
   ]
  },
  {
   "cell_type": "code",
   "execution_count": 6,
   "metadata": {},
   "outputs": [
    {
     "data": {
      "text/html": [
       "<table>\n",
       "<thead><tr><th></th><th scope=col>Length</th><th scope=col>Diameter</th><th scope=col>Height</th><th scope=col>Whole.weight</th><th scope=col>Shucked.weight</th><th scope=col>Viscera.weight</th><th scope=col>Shell.weight</th><th scope=col>Rings</th></tr></thead>\n",
       "<tbody>\n",
       "\t<tr><th scope=row>Length</th><td>1.0000000</td><td>0.9868116</td><td>0.8275536</td><td>0.9252612</td><td>0.8979137</td><td>0.9030177</td><td>0.8977056</td><td>0.5567196</td></tr>\n",
       "\t<tr><th scope=row>Diameter</th><td>0.9868116</td><td>1.0000000</td><td>0.8336837</td><td>0.9254521</td><td>0.8931625</td><td>0.8997244</td><td>0.9053298</td><td>0.5746599</td></tr>\n",
       "\t<tr><th scope=row>Height</th><td>0.8275536</td><td>0.8336837</td><td>1.0000000</td><td>0.8192208</td><td>0.7749723</td><td>0.7983193</td><td>0.8173380</td><td>0.5574673</td></tr>\n",
       "\t<tr><th scope=row>Whole.weight</th><td>0.9252612</td><td>0.9254521</td><td>0.8192208</td><td>1.0000000</td><td>0.9694055</td><td>0.9663751</td><td>0.9553554</td><td>0.5403897</td></tr>\n",
       "\t<tr><th scope=row>Shucked.weight</th><td>0.8979137</td><td>0.8931625</td><td>0.7749723</td><td>0.9694055</td><td>1.0000000</td><td>0.9319613</td><td>0.8826171</td><td>0.4208837</td></tr>\n",
       "\t<tr><th scope=row>Viscera.weight</th><td>0.9030177</td><td>0.8997244</td><td>0.7983193</td><td>0.9663751</td><td>0.9319613</td><td>1.0000000</td><td>0.9076563</td><td>0.5038192</td></tr>\n",
       "\t<tr><th scope=row>Shell.weight</th><td>0.8977056</td><td>0.9053298</td><td>0.8173380</td><td>0.9553554</td><td>0.8826171</td><td>0.9076563</td><td>1.0000000</td><td>0.6275740</td></tr>\n",
       "\t<tr><th scope=row>Rings</th><td>0.5567196</td><td>0.5746599</td><td>0.5574673</td><td>0.5403897</td><td>0.4208837</td><td>0.5038192</td><td>0.6275740</td><td>1.0000000</td></tr>\n",
       "</tbody>\n",
       "</table>\n"
      ],
      "text/latex": [
       "\\begin{tabular}{r|llllllll}\n",
       "  & Length & Diameter & Height & Whole.weight & Shucked.weight & Viscera.weight & Shell.weight & Rings\\\\\n",
       "\\hline\n",
       "\tLength & 1.0000000 & 0.9868116 & 0.8275536 & 0.9252612 & 0.8979137 & 0.9030177 & 0.8977056 & 0.5567196\\\\\n",
       "\tDiameter & 0.9868116 & 1.0000000 & 0.8336837 & 0.9254521 & 0.8931625 & 0.8997244 & 0.9053298 & 0.5746599\\\\\n",
       "\tHeight & 0.8275536 & 0.8336837 & 1.0000000 & 0.8192208 & 0.7749723 & 0.7983193 & 0.8173380 & 0.5574673\\\\\n",
       "\tWhole.weight & 0.9252612 & 0.9254521 & 0.8192208 & 1.0000000 & 0.9694055 & 0.9663751 & 0.9553554 & 0.5403897\\\\\n",
       "\tShucked.weight & 0.8979137 & 0.8931625 & 0.7749723 & 0.9694055 & 1.0000000 & 0.9319613 & 0.8826171 & 0.4208837\\\\\n",
       "\tViscera.weight & 0.9030177 & 0.8997244 & 0.7983193 & 0.9663751 & 0.9319613 & 1.0000000 & 0.9076563 & 0.5038192\\\\\n",
       "\tShell.weight & 0.8977056 & 0.9053298 & 0.8173380 & 0.9553554 & 0.8826171 & 0.9076563 & 1.0000000 & 0.6275740\\\\\n",
       "\tRings & 0.5567196 & 0.5746599 & 0.5574673 & 0.5403897 & 0.4208837 & 0.5038192 & 0.6275740 & 1.0000000\\\\\n",
       "\\end{tabular}\n"
      ],
      "text/markdown": [
       "\n",
       "| <!--/--> | Length | Diameter | Height | Whole.weight | Shucked.weight | Viscera.weight | Shell.weight | Rings |\n",
       "|---|---|---|---|---|---|---|---|---|\n",
       "| Length | 1.0000000 | 0.9868116 | 0.8275536 | 0.9252612 | 0.8979137 | 0.9030177 | 0.8977056 | 0.5567196 |\n",
       "| Diameter | 0.9868116 | 1.0000000 | 0.8336837 | 0.9254521 | 0.8931625 | 0.8997244 | 0.9053298 | 0.5746599 |\n",
       "| Height | 0.8275536 | 0.8336837 | 1.0000000 | 0.8192208 | 0.7749723 | 0.7983193 | 0.8173380 | 0.5574673 |\n",
       "| Whole.weight | 0.9252612 | 0.9254521 | 0.8192208 | 1.0000000 | 0.9694055 | 0.9663751 | 0.9553554 | 0.5403897 |\n",
       "| Shucked.weight | 0.8979137 | 0.8931625 | 0.7749723 | 0.9694055 | 1.0000000 | 0.9319613 | 0.8826171 | 0.4208837 |\n",
       "| Viscera.weight | 0.9030177 | 0.8997244 | 0.7983193 | 0.9663751 | 0.9319613 | 1.0000000 | 0.9076563 | 0.5038192 |\n",
       "| Shell.weight | 0.8977056 | 0.9053298 | 0.8173380 | 0.9553554 | 0.8826171 | 0.9076563 | 1.0000000 | 0.6275740 |\n",
       "| Rings | 0.5567196 | 0.5746599 | 0.5574673 | 0.5403897 | 0.4208837 | 0.5038192 | 0.6275740 | 1.0000000 |\n",
       "\n"
      ],
      "text/plain": [
       "               Length    Diameter  Height    Whole.weight Shucked.weight\n",
       "Length         1.0000000 0.9868116 0.8275536 0.9252612    0.8979137     \n",
       "Diameter       0.9868116 1.0000000 0.8336837 0.9254521    0.8931625     \n",
       "Height         0.8275536 0.8336837 1.0000000 0.8192208    0.7749723     \n",
       "Whole.weight   0.9252612 0.9254521 0.8192208 1.0000000    0.9694055     \n",
       "Shucked.weight 0.8979137 0.8931625 0.7749723 0.9694055    1.0000000     \n",
       "Viscera.weight 0.9030177 0.8997244 0.7983193 0.9663751    0.9319613     \n",
       "Shell.weight   0.8977056 0.9053298 0.8173380 0.9553554    0.8826171     \n",
       "Rings          0.5567196 0.5746599 0.5574673 0.5403897    0.4208837     \n",
       "               Viscera.weight Shell.weight Rings    \n",
       "Length         0.9030177      0.8977056    0.5567196\n",
       "Diameter       0.8997244      0.9053298    0.5746599\n",
       "Height         0.7983193      0.8173380    0.5574673\n",
       "Whole.weight   0.9663751      0.9553554    0.5403897\n",
       "Shucked.weight 0.9319613      0.8826171    0.4208837\n",
       "Viscera.weight 1.0000000      0.9076563    0.5038192\n",
       "Shell.weight   0.9076563      1.0000000    0.6275740\n",
       "Rings          0.5038192      0.6275740    1.0000000"
      ]
     },
     "metadata": {},
     "output_type": "display_data"
    }
   ],
   "source": [
    "numeric_columns <- Filter(is.numeric,abalone)\n",
    "cor(numeric_columns)"
   ]
  },
  {
   "cell_type": "markdown",
   "metadata": {},
   "source": [
    "After calculating the correlation between each of the numeric pairs in this dataset it appears that Length and Diameter have the strongest linear relationship with an r = 0.99 indicating a strong positive linear relationship between the two variables. Conversely, Rings and Shucked.weight have the weakest linear relationship with r = 0.42 indiciating a moderate positive linear relationship between the two variables. This is not worth investigating further since we are told Diameter is perpendicular to Length. Let us move on to investigating other relationships."
   ]
  },
  {
   "cell_type": "markdown",
   "metadata": {},
   "source": [
    "One relationship that is worth investigating is the relationship between Rings and the Length of an abalone. Common sense would dictate that the larger an abalone the more rings it has, but is that necessarily true? Let's observe how this relationship varies first using an interaction plot across different Sex:"
   ]
  },
  {
   "cell_type": "code",
   "execution_count": 7,
   "metadata": {},
   "outputs": [
    {
     "data": {
      "text/plain": [
       "                        Df Sum Sq Mean Sq F value   Pr(>F)    \n",
       "Length                   1  13455   13455 1969.12  < 2e-16 ***\n",
       "as.factor(Sex)           2   1070     535   78.26  < 2e-16 ***\n",
       "Length:as.factor(Sex)    2    387     194   28.33 6.04e-13 ***\n",
       "Residuals             4171  28499       7                     \n",
       "---\n",
       "Signif. codes:  0 '***' 0.001 '**' 0.01 '*' 0.05 '.' 0.1 ' ' 1"
      ]
     },
     "metadata": {},
     "output_type": "display_data"
    }
   ],
   "source": [
    "summary(aov(Rings~Length*as.factor(Sex), data=abalone))"
   ]
  },
  {
   "cell_type": "markdown",
   "metadata": {},
   "source": [
    "The Length of an abalone does much of the heavy lifting as a predictor. In addition the Length and Sex interaction is worth investigating as well as Sex and Length on their own."
   ]
  },
  {
   "cell_type": "code",
   "execution_count": 8,
   "metadata": {},
   "outputs": [
    {
     "data": {
      "image/png": "[encoded data removed]",
      "text/plain": [
       "plot without title"
      ]
     },
     "metadata": {},
     "output_type": "display_data"
    }
   ],
   "source": [
    "interaction.plot(x.factor=abalone$Length,trace.factor=abalone$Sex, response=abalone$Rings, col=c('blue','red','green'), lwd=2, type='b', pch=1)"
   ]
  },
  {
   "cell_type": "markdown",
   "metadata": {},
   "source": [
    "The effect of Length on Rings is pretty clear with all 3 lines increasing. The effect of Sex on Length is mostly clear with Male and Female abalone's seemingly following the same trend, and Infants (juveniles) falling slightly beloe as a result of having fewer rings and shorter length. However the effect of Sex depends depends on Length, or vice versa seeing that the lines are not all perfectly parallel."
   ]
  }
 ],
 "metadata": {
  "kernelspec": {
   "display_name": "R",
   "language": "R",
   "name": "ir"
  },
  "language_info": {
   "codemirror_mode": "r",
   "file_extension": ".r",
   "mimetype": "text/x-r-source",
   "name": "R",
   "pygments_lexer": "r",
   "version": "3.6.1"
  }
 },
 "nbformat": 4,
 "nbformat_minor": 2
}
