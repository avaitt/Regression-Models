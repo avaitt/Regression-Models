{
 "cells": [
  {
   "cell_type": "markdown",
   "metadata": {},
   "source": [
    "# Research Question #1:\n",
    "\n",
    "Abalone are marine snails that are commonly consumed. Overfishing and poaching have reduced wild populations to such an extent that farmed abalone now supplies most of the abalone meat consumed. This dataset consists of wild Blacklip Abalone (Haliotis rubr) from the North Coast and Islands of Bass Strait. \n",
    "\n",
    "## 1a\n",
    "\n",
    "On average farmed abalone of this subspecies weigh 1.24 grams. With this information in mind can we extrapolate to say that abalone that is not farmed (i.e. wild) weighs significantly less than their farmed counterpart? \n",
    "\n",
    "For the purposes of comparing weights I will be using Whole.weight (i.e. shell + meat + guts) of the abalone dataset. \n",
    "\n",
    "I will perform a 𝑡-based hypothesis test at 𝛼 = 0.05 to see if my wild abalone mean Whole.weight is less than the national farmed average abalone average weight of 1.24 grams. \n",
    "\n",
    "In order to accurately present this t-test I have decided to remove all data concerning Infants as the national farmed average figure that I found concerned adults and NOT juvenile abalone."
   ]
  },
  {
   "cell_type": "code",
   "execution_count": 9,
   "metadata": {},
   "outputs": [],
   "source": [
    "abalone <- read.table('http://archive.ics.uci.edu/ml/machine-learning-databases/abalone/abalone.data', sep=\",\" , col.names=col_names)\n",
    "abalone_Adults <- abalone[abalone[\"Sex\"] == 'M' | abalone[\"Sex\"] == 'F',]"
   ]
  },
  {
   "cell_type": "code",
   "execution_count": 10,
   "metadata": {},
   "outputs": [
    {
     "data": {
      "text/plain": [
       "\n",
       "\tOne Sample t-test\n",
       "\n",
       "data:  abalone_Adults$Whole.weight\n",
       "t = -26.216, df = 2834, p-value < 2.2e-16\n",
       "alternative hypothesis: true mean is less than 1.24\n",
       "95 percent confidence interval:\n",
       "     -Inf 1.030855\n",
       "sample estimates:\n",
       "mean of x \n",
       " 1.016849 \n"
      ]
     },
     "metadata": {},
     "output_type": "display_data"
    }
   ],
   "source": [
    "t.test(x=abalone_Adults$Whole.weight, alternative = 'less', mu = 1.24)\n",
    "# Ho: Population mean Whole.weight is equal to 1.24 grams"
   ]
  },
  {
   "cell_type": "markdown",
   "metadata": {},
   "source": [
    "\"As evidenced by this t-based hypothesis test at 𝛼 = 0.05 the mean Whole.weight of wild abalone is indeed less than the mean weight of farmed abalone. This is indicative of the trend of overfishing and man-made selectivity artificially increasing the weight of marine life such as abalone for consumption.\""
   ]
  },
  {
   "cell_type": "markdown",
   "metadata": {},
   "source": [
    "## 1b\n",
    "\n",
    "On the topic of weight, I also want to inspect how weight differs across Males and Female abalone. I will perform a 𝑡-based hypothesis test at 𝛼 = 0.05 to see if Male abalone's mean Whole.weight is higher than Female abalone's mean Whole.weight. In an effort to see if there is a significance difference between the two I will also find a 95% two-sided confidence interval for the difference in mean Whole.weight between Male and Female abalone.\n",
    "\n",
    "**Note:** It is not worth investigating infant Whole.weight with relation to adults since naturally infants will weigh less and we do not have data on Female Infants and Male Infants - but rather Infants as a whole."
   ]
  },
  {
   "cell_type": "code",
   "execution_count": 11,
   "metadata": {},
   "outputs": [
    {
     "data": {
      "text/plain": [
       "\n",
       "\tWelch Two Sample t-test\n",
       "\n",
       "data:  abalone$Whole.weight[abalone$Sex == \"F\"] and abalone$Whole.weight[abalone$Sex == \"M\"]\n",
       "t = 3.2531, df = 2820.4, p-value = 0.0005775\n",
       "alternative hypothesis: true difference in means is greater than 0\n",
       "95 percent confidence interval:\n",
       " 0.02721725        Inf\n",
       "sample estimates:\n",
       "mean of x mean of y \n",
       "1.0465321 0.9914594 \n"
      ]
     },
     "metadata": {},
     "output_type": "display_data"
    }
   ],
   "source": [
    "t.test(x=abalone$Whole.weight[abalone$Sex == 'F'], y=abalone$Whole.weight[abalone$Sex == 'M'], alternative='greater')\n",
    "# Ho: There is no difference in Male mean Whole.weight and Female mean Whole.weight"
   ]
  },
  {
   "cell_type": "markdown",
   "metadata": {},
   "source": [
    "\"Since p-value < alpha at 0.05, we can reject the Ho. We have sufficient evidence that Female abalone mean Whole.weight is greater than Male abalone mean Whole.Weight.\""
   ]
  },
  {
   "cell_type": "code",
   "execution_count": 12,
   "metadata": {},
   "outputs": [
    {
     "data": {
      "text/html": [
       "<ol class=list-inline>\n",
       "\t<li>0.0218775333448315</li>\n",
       "\t<li>0.0882678878066804</li>\n",
       "</ol>\n"
      ],
      "text/latex": [
       "\\begin{enumerate*}\n",
       "\\item 0.0218775333448315\n",
       "\\item 0.0882678878066804\n",
       "\\end{enumerate*}\n"
      ],
      "text/markdown": [
       "1. 0.0218775333448315\n",
       "2. 0.0882678878066804\n",
       "\n",
       "\n"
      ],
      "text/plain": [
       "[1] 0.02187753 0.08826789\n",
       "attr(,\"conf.level\")\n",
       "[1] 0.95"
      ]
     },
     "metadata": {},
     "output_type": "display_data"
    }
   ],
   "source": [
    "t.test(x=abalone$Whole.weight[abalone$Sex == 'F'], y=abalone$Whole.weight[abalone$Sex == 'M'], conf.level=.95)$conf.int\n",
    "# looking at differences in means"
   ]
  },
  {
   "cell_type": "markdown",
   "metadata": {},
   "source": [
    "\"We are 95% confident that Female abalone Whole.weight is on average between 0.02 and 0.09 grams more than Male abalone Whole.weight. This aligns with the results of our hypothesis test.\"\n",
    "\n",
    "*The interval does not include 0, so WE CAN be 95% confident that there is a significant difference in mean Whole.weight between the Male and Female abalone.*"
   ]
  },
  {
   "cell_type": "markdown",
   "metadata": {},
   "source": [
    "# Research Question #2:\n",
    "\n",
    "## 2a\n",
    "We are provided with many measurements to see how abalone weight changes once a specimen is taken out of water, stripped of its meat, gutted, and then de-shelled. With all this information concerning weight, let us create a regression model to estimate Shucked.weight (i.e. the weight of a specimen's meat, discluding shell, guts, etc.) based on its Whole.weight and respective Sex. I will also get individual models for each Sex.\n",
    "\n",
    "With these models we can estimate the yield of an abalone based on its weight and Sex. As a result, a fisherman can now deduce the amount of sellable abalone meat based on the weight of their catch. \n"
   ]
  },
  {
   "cell_type": "code",
   "execution_count": 13,
   "metadata": {},
   "outputs": [
    {
     "data": {
      "text/plain": [
       "\n",
       "Call:\n",
       "lm(formula = Shucked.weight ~ Whole.weight * Sex, data = abalone)\n",
       "\n",
       "Residuals:\n",
       "     Min       1Q   Median       3Q      Max \n",
       "-0.31379 -0.01948 -0.00084  0.02405  0.44568 \n",
       "\n",
       "Coefficients:\n",
       "                   Estimate Std. Error t value Pr(>|t|)    \n",
       "(Intercept)       -0.012596   0.003926  -3.208 0.001345 ** \n",
       "Whole.weight       0.438385   0.003470 126.347  < 2e-16 ***\n",
       "SexI               0.016030   0.004745   3.379 0.000735 ***\n",
       "SexM              -0.006149   0.005078  -1.211 0.225952    \n",
       "Whole.weight:SexI -0.003482   0.006207  -0.561 0.574824    \n",
       "Whole.weight:SexM  0.017197   0.004544   3.785 0.000156 ***\n",
       "---\n",
       "Signif. codes:  0 '***' 0.001 '**' 0.01 '*' 0.05 '.' 0.1 ' ' 1\n",
       "\n",
       "Residual standard error: 0.05396 on 4171 degrees of freedom\n",
       "Multiple R-squared:  0.941,\tAdjusted R-squared:  0.9409 \n",
       "F-statistic: 1.33e+04 on 5 and 4171 DF,  p-value: < 2.2e-16\n"
      ]
     },
     "metadata": {},
     "output_type": "display_data"
    }
   ],
   "source": [
    "mod1=lm(Shucked.weight~Whole.weight*Sex, data=abalone)\n",
    "summary(mod1)"
   ]
  },
  {
   "cell_type": "markdown",
   "metadata": {},
   "source": [
    "**Regression Equation (with interaction):** Shucked.weight = -0.013 + 0.438(Whole.weight) + 0.016(SexI) - 0.006(SexM) - 0.003(Whole.weight:SexI) + 0.017(Whole.weight:SexM)\n"
   ]
  },
  {
   "cell_type": "code",
   "execution_count": 14,
   "metadata": {},
   "outputs": [
    {
     "data": {
      "text/plain": [
       "\n",
       "Call:\n",
       "lm(formula = Shucked.weight ~ Whole.weight, data = female)\n",
       "\n",
       "Residuals:\n",
       "     Min       1Q   Median       3Q      Max \n",
       "-0.31379 -0.02843  0.00211  0.03331  0.33581 \n",
       "\n",
       "Coefficients:\n",
       "              Estimate Std. Error t value Pr(>|t|)    \n",
       "(Intercept)  -0.012596   0.004534  -2.778  0.00555 ** \n",
       "Whole.weight  0.438385   0.004007 109.397  < 2e-16 ***\n",
       "---\n",
       "Signif. codes:  0 '***' 0.001 '**' 0.01 '*' 0.05 '.' 0.1 ' ' 1\n",
       "\n",
       "Residual standard error: 0.06232 on 1305 degrees of freedom\n",
       "Multiple R-squared:  0.9017,\tAdjusted R-squared:  0.9016 \n",
       "F-statistic: 1.197e+04 on 1 and 1305 DF,  p-value: < 2.2e-16\n"
      ]
     },
     "metadata": {},
     "output_type": "display_data"
    }
   ],
   "source": [
    "female <- abalone[abalone$Sex == 'F',]\n",
    "mod2 = lm(Shucked.weight~Whole.weight, data=female)\n",
    "summary(mod2)"
   ]
  },
  {
   "cell_type": "markdown",
   "metadata": {},
   "source": [
    "**Regression Equation (Group Female):** Shucked.weight = -0.013 + 0.438(Whole.weight)\n",
    "\n",
    "***Interpretation:*** If Whole.weight is increased by 1 pround Shucked.weight increases by 0.438 prounds."
   ]
  },
  {
   "cell_type": "code",
   "execution_count": 15,
   "metadata": {},
   "outputs": [
    {
     "data": {
      "text/plain": [
       "\n",
       "Call:\n",
       "lm(formula = Shucked.weight ~ Whole.weight, data = infant)\n",
       "\n",
       "Residuals:\n",
       "     Min       1Q   Median       3Q      Max \n",
       "-0.14924 -0.01139 -0.00377  0.00925  0.44568 \n",
       "\n",
       "Coefficients:\n",
       "             Estimate Std. Error t value Pr(>|t|)    \n",
       "(Intercept)  0.003434   0.001552   2.213   0.0271 *  \n",
       "Whole.weight 0.434902   0.002998 145.046   <2e-16 ***\n",
       "---\n",
       "Signif. codes:  0 '***' 0.001 '**' 0.01 '*' 0.05 '.' 0.1 ' ' 1\n",
       "\n",
       "Residual standard error: 0.03143 on 1340 degrees of freedom\n",
       "Multiple R-squared:  0.9401,\tAdjusted R-squared:  0.9401 \n",
       "F-statistic: 2.104e+04 on 1 and 1340 DF,  p-value: < 2.2e-16\n"
      ]
     },
     "metadata": {},
     "output_type": "display_data"
    }
   ],
   "source": [
    "infant <- abalone[abalone$Sex == 'I',]\n",
    "mod3 = lm(Shucked.weight~Whole.weight, data=infant)\n",
    "summary(mod3)"
   ]
  },
  {
   "cell_type": "markdown",
   "metadata": {},
   "source": [
    "**Regression Equation (Group Infant):** Shucked.weight = 0.003 + 0.435(Whole.weight)\n",
    "\n",
    "***Interpretation:*** If Whole.weight is increased by 1 gram Shucked.weight increases by 0.435 grams."
   ]
  },
  {
   "cell_type": "code",
   "execution_count": 16,
   "metadata": {},
   "outputs": [
    {
     "data": {
      "text/plain": [
       "\n",
       "Call:\n",
       "lm(formula = Shucked.weight ~ Whole.weight, data = male)\n",
       "\n",
       "Residuals:\n",
       "     Min       1Q   Median       3Q      Max \n",
       "-0.25144 -0.02995  0.00379  0.03198  0.36291 \n",
       "\n",
       "Coefficients:\n",
       "              Estimate Std. Error t value Pr(>|t|)    \n",
       "(Intercept)  -0.018745   0.003664  -5.116 3.51e-07 ***\n",
       "Whole.weight  0.455582   0.003339 136.459  < 2e-16 ***\n",
       "---\n",
       "Signif. codes:  0 '***' 0.001 '**' 0.01 '*' 0.05 '.' 0.1 ' ' 1\n",
       "\n",
       "Residual standard error: 0.06139 on 1526 degrees of freedom\n",
       "Multiple R-squared:  0.9243,\tAdjusted R-squared:  0.9242 \n",
       "F-statistic: 1.862e+04 on 1 and 1526 DF,  p-value: < 2.2e-16\n"
      ]
     },
     "metadata": {},
     "output_type": "display_data"
    }
   ],
   "source": [
    "male <- abalone[abalone$Sex == 'M',]\n",
    "mod4 = lm(Shucked.weight~Whole.weight, data=male)\n",
    "summary(mod4)"
   ]
  },
  {
   "cell_type": "markdown",
   "metadata": {},
   "source": [
    "**Regression Equation (Group Male):** Shucked.weight = -0.019 + 0.456(Whole.weight)\n",
    "\n",
    "***Interpretation:*** If Whole.weight is increased by 1 gram Shucked.weight increases by 0.456 grams."
   ]
  },
  {
   "cell_type": "markdown",
   "metadata": {},
   "source": [
    "## 2b\n",
    "One of the most important criteria for a fisherman is the Shucked.weight produced. From the previous test we know that Whole.weight varies between Male and Female abalones. However, can the same be said about shucked.weight. The shucked.weight constitutes the amount of sellable meat that an individual abalone can yield. As a result, I will investigate if Whole.weight:Sex interaction is significant (i.e. is this predictor significant when deducing Shucked.weight).\n"
   ]
  },
  {
   "cell_type": "code",
   "execution_count": 17,
   "metadata": {},
   "outputs": [
    {
     "data": {
      "text/html": [
       "<table>\n",
       "<thead><tr><th scope=col>Res.Df</th><th scope=col>RSS</th><th scope=col>Df</th><th scope=col>Sum of Sq</th><th scope=col>F</th><th scope=col>Pr(&gt;F)</th></tr></thead>\n",
       "<tbody>\n",
       "\t<tr><td>4173        </td><td>12.20201    </td><td>NA          </td><td>       NA   </td><td>      NA    </td><td>          NA</td></tr>\n",
       "\t<tr><td>4171        </td><td>12.14345    </td><td> 2          </td><td>0.0585594   </td><td>10.05691    </td><td>4.393763e-05</td></tr>\n",
       "</tbody>\n",
       "</table>\n"
      ],
      "text/latex": [
       "\\begin{tabular}{r|llllll}\n",
       " Res.Df & RSS & Df & Sum of Sq & F & Pr(>F)\\\\\n",
       "\\hline\n",
       "\t 4173         & 12.20201     & NA           &        NA    &       NA     &           NA\\\\\n",
       "\t 4171         & 12.14345     &  2           & 0.0585594    & 10.05691     & 4.393763e-05\\\\\n",
       "\\end{tabular}\n"
      ],
      "text/markdown": [
       "\n",
       "| Res.Df | RSS | Df | Sum of Sq | F | Pr(>F) |\n",
       "|---|---|---|---|---|---|\n",
       "| 4173         | 12.20201     | NA           |        NA    |       NA     |           NA |\n",
       "| 4171         | 12.14345     |  2           | 0.0585594    | 10.05691     | 4.393763e-05 |\n",
       "\n"
      ],
      "text/plain": [
       "  Res.Df RSS      Df Sum of Sq F        Pr(>F)      \n",
       "1 4173   12.20201 NA        NA       NA           NA\n",
       "2 4171   12.14345  2 0.0585594 10.05691 4.393763e-05"
      ]
     },
     "metadata": {},
     "output_type": "display_data"
    }
   ],
   "source": [
    "mod5 = lm(Shucked.weight~Whole.weight+Sex, data=abalone)\n",
    "mod6 = lm(Shucked.weight~Whole.weight*Sex, data=abalone)\n",
    "anova(mod5, mod6)\n",
    "\n",
    "# H0: Whole.weight:SexI and Whole.weight:SexM are all ZERO slope\n",
    "# H1: At least one of Whole.weight:SexI and Whole.weight:SexM are NOT zero"
   ]
  },
  {
   "cell_type": "markdown",
   "metadata": {},
   "source": [
    "Clearly we have Large F statistics and low p-value meaning that there is a signficant difference in the fit of the two models:\n",
    "The added predictor(s) which are Whole.weight:SexI and Whole.weight:SexM are significantly beneficial and good predictors."
   ]
  },
  {
   "cell_type": "markdown",
   "metadata": {},
   "source": [
    "## 2c\n",
    "After investigating the effect of Sex and Whole.weight on the amount of Shucked.weight we yield it is worth looking into the other significant predictors that exist. In order to do so I will build a multiple regression model that uses all other variables in the data frame as predictors. I will implement a backwards stepwise procedure to explore what predictors contribute to Shucked.weight.\n"
   ]
  },
  {
   "cell_type": "code",
   "execution_count": 18,
   "metadata": {},
   "outputs": [
    {
     "data": {
      "text/plain": [
       "\n",
       "Call:\n",
       "lm(formula = Shucked.weight ~ .^2, data = abalone)\n",
       "\n",
       "Residuals:\n",
       "     Min       1Q   Median       3Q      Max \n",
       "-0.38214 -0.01214 -0.00042  0.01380  0.44522 \n",
       "\n",
       "Coefficients:\n",
       "                              Estimate Std. Error t value Pr(>|t|)    \n",
       "(Intercept)                  0.0297002  0.0282291   1.052 0.292809    \n",
       "SexI                         0.0119558  0.0202154   0.591 0.554269    \n",
       "SexM                         0.0139396  0.0179083   0.778 0.436385    \n",
       "Length                       0.0136032  0.2247990   0.061 0.951750    \n",
       "Diameter                    -0.1272681  0.2922477  -0.435 0.663237    \n",
       "Height                      -0.3388041  0.2872267  -1.180 0.238239    \n",
       "Whole.weight                 0.6409376  0.0763917   8.390  < 2e-16 ***\n",
       "Viscera.weight              -0.0585167  0.2785389  -0.210 0.833612    \n",
       "Shell.weight                -0.5466069  0.1983415  -2.756 0.005879 ** \n",
       "Rings                       -0.0056777  0.0028512  -1.991 0.046507 *  \n",
       "SexI:Length                 -0.0771775  0.0975558  -0.791 0.428925    \n",
       "SexM:Length                  0.0373631  0.0767083   0.487 0.626227    \n",
       "SexI:Diameter                0.0528619  0.1195516   0.442 0.658390    \n",
       "SexM:Diameter               -0.1408611  0.0918247  -1.534 0.125101    \n",
       "SexI:Height                 -0.0377297  0.0986736  -0.382 0.702207    \n",
       "SexM:Height                  0.1311063  0.0778594   1.684 0.092279 .  \n",
       "SexI:Whole.weight            0.0398289  0.0288521   1.380 0.167523    \n",
       "SexM:Whole.weight            0.0497516  0.0157597   3.157 0.001606 ** \n",
       "SexI:Viscera.weight         -0.2155650  0.0872681  -2.470 0.013546 *  \n",
       "SexM:Viscera.weight         -0.1626042  0.0460106  -3.534 0.000414 ***\n",
       "SexI:Shell.weight            0.0556520  0.0695902   0.800 0.423925    \n",
       "SexM:Shell.weight            0.0146721  0.0363276   0.404 0.686319    \n",
       "SexI:Rings                   0.0009790  0.0008066   1.214 0.224923    \n",
       "SexM:Rings                  -0.0004867  0.0005594  -0.870 0.384357    \n",
       "Length:Diameter              0.2483947  0.3220127   0.771 0.440525    \n",
       "Length:Height                3.1583067  2.0600538   1.533 0.125323    \n",
       "Length:Whole.weight         -0.6940601  0.3460029  -2.006 0.044928 *  \n",
       "Length:Viscera.weight        0.9179758  1.0928137   0.840 0.400951    \n",
       "Length:Shell.weight          1.6100482  0.8523686   1.889 0.058974 .  \n",
       "Length:Rings                -0.0355691  0.0130558  -2.724 0.006469 ** \n",
       "Diameter:Height             -3.0644855  2.5684466  -1.193 0.232888    \n",
       "Diameter:Whole.weight        1.2209751  0.4295545   2.842 0.004499 ** \n",
       "Diameter:Viscera.weight     -2.2397569  1.4072779  -1.592 0.111562    \n",
       "Diameter:Shell.weight       -2.7484999  1.0328711  -2.661 0.007820 ** \n",
       "Diameter:Rings               0.0637352  0.0159045   4.007 6.25e-05 ***\n",
       "Height:Whole.weight          1.2418119  0.3326404   3.733 0.000192 ***\n",
       "Height:Viscera.weight       -1.9788437  1.1922906  -1.660 0.097051 .  \n",
       "Height:Shell.weight         -3.2485274  0.6651264  -4.884 1.08e-06 ***\n",
       "Height:Rings                -0.0034073  0.0140212  -0.243 0.808011    \n",
       "Whole.weight:Viscera.weight -0.1284014  0.0836767  -1.534 0.124985    \n",
       "Whole.weight:Shell.weight   -0.1187710  0.0716418  -1.658 0.097425 .  \n",
       "Whole.weight:Rings          -0.0247873  0.0027964  -8.864  < 2e-16 ***\n",
       "Viscera.weight:Shell.weight  1.4868383  0.3561013   4.175 3.04e-05 ***\n",
       "Viscera.weight:Rings         0.0170317  0.0083805   2.032 0.042186 *  \n",
       "Shell.weight:Rings           0.0432374  0.0047540   9.095  < 2e-16 ***\n",
       "---\n",
       "Signif. codes:  0 '***' 0.001 '**' 0.01 '*' 0.05 '.' 0.1 ' ' 1\n",
       "\n",
       "Residual standard error: 0.03754 on 4132 degrees of freedom\n",
       "Multiple R-squared:  0.9717,\tAdjusted R-squared:  0.9714 \n",
       "F-statistic:  3225 on 44 and 4132 DF,  p-value: < 2.2e-16\n"
      ]
     },
     "metadata": {},
     "output_type": "display_data"
    }
   ],
   "source": [
    "# FULL MODEL (with interactions)\n",
    "mod7 =lm(Shucked.weight~.^2, data=abalone) \n",
    "summary(mod7)"
   ]
  },
  {
   "cell_type": "code",
   "execution_count": 19,
   "metadata": {},
   "outputs": [],
   "source": [
    "# Based on our overall p-value < 2.2e-16 (< 0.05) there IS something helpful going on, and at least one of \n",
    "# the predictors is significant/useful"
   ]
  },
  {
   "cell_type": "code",
   "execution_count": 21,
   "metadata": {},
   "outputs": [],
   "source": [
    "# REDUCED MODEL\n",
    "mod8=lm(Shucked.weight ~ Sex + Length + Diameter + Height + \n",
    "    Whole.weight + Viscera.weight + Shell.weight + Rings + Sex:Whole.weight + \n",
    "    Sex:Viscera.weight + Sex:Rings + Length:Height + Length:Whole.weight + \n",
    "    Length:Shell.weight + Length:Rings + Diameter:Height + Diameter:Whole.weight + \n",
    "    Diameter:Viscera.weight + Diameter:Shell.weight + Diameter:Rings + \n",
    "    Height:Whole.weight + Height:Viscera.weight + Height:Shell.weight + \n",
    "    Whole.weight:Viscera.weight + Whole.weight:Shell.weight + \n",
    "    Whole.weight:Rings + Viscera.weight:Shell.weight + Viscera.weight:Rings + \n",
    "    Shell.weight:Rings, data = abalone)"
   ]
  },
  {
   "cell_type": "code",
   "execution_count": 22,
   "metadata": {},
   "outputs": [
    {
     "data": {
      "text/html": [
       "<table>\n",
       "<thead><tr><th scope=col>Res.Df</th><th scope=col>RSS</th><th scope=col>Df</th><th scope=col>Sum of Sq</th><th scope=col>F</th><th scope=col>Pr(&gt;F)</th></tr></thead>\n",
       "<tbody>\n",
       "\t<tr><td>4132       </td><td>5.822091   </td><td> NA        </td><td>         NA</td><td>       NA  </td><td>       NA  </td></tr>\n",
       "\t<tr><td>4143       </td><td>5.835750   </td><td>-11        </td><td>-0.01365832</td><td>0.8812232  </td><td>0.5582277  </td></tr>\n",
       "</tbody>\n",
       "</table>\n"
      ],
      "text/latex": [
       "\\begin{tabular}{r|llllll}\n",
       " Res.Df & RSS & Df & Sum of Sq & F & Pr(>F)\\\\\n",
       "\\hline\n",
       "\t 4132        & 5.822091    &  NA         &          NA &        NA   &        NA  \\\\\n",
       "\t 4143        & 5.835750    & -11         & -0.01365832 & 0.8812232   & 0.5582277  \\\\\n",
       "\\end{tabular}\n"
      ],
      "text/markdown": [
       "\n",
       "| Res.Df | RSS | Df | Sum of Sq | F | Pr(>F) |\n",
       "|---|---|---|---|---|---|\n",
       "| 4132        | 5.822091    |  NA         |          NA |        NA   |        NA   |\n",
       "| 4143        | 5.835750    | -11         | -0.01365832 | 0.8812232   | 0.5582277   |\n",
       "\n"
      ],
      "text/plain": [
       "  Res.Df RSS      Df  Sum of Sq   F         Pr(>F)   \n",
       "1 4132   5.822091  NA          NA        NA        NA\n",
       "2 4143   5.835750 -11 -0.01365832 0.8812232 0.5582277"
      ]
     },
     "metadata": {},
     "output_type": "display_data"
    }
   ],
   "source": [
    "# Ensure that the model generated by a backwards stepwise procedure does not remove any important predictors\n",
    "anova(mod7,mod8)\n",
    "# we DON'T loose anything of value by removing predictors in the full model"
   ]
  },
  {
   "cell_type": "markdown",
   "metadata": {},
   "source": [
    "## 2d\n",
    "On the research side of things, a scientist might have a hard time identifying Male, Female, and Infant abalone while on a research-trip in the mid-Atlatnic. Let us look into how a researcher can use the data from this table to extrapolate what type of Sex an abalone might be based on multiple predictors. This in turn will create a single regression equation for which a researcher can input variables and generate information from. This will be a multinomial regression model. "
   ]
  },
  {
   "cell_type": "code",
   "execution_count": 23,
   "metadata": {},
   "outputs": [
    {
     "name": "stderr",
     "output_type": "stream",
     "text": [
      "Warning message:\n",
      "\"package 'nnet' was built under R version 3.6.3\""
     ]
    },
    {
     "name": "stdout",
     "output_type": "stream",
     "text": [
      "# weights:  30 (18 variable)\n",
      "initial  value 4588.903530 \n",
      "iter  10 value 3611.108004\n",
      "iter  20 value 3569.689317\n",
      "iter  30 value 3569.621371\n",
      "iter  30 value 3569.621340\n",
      "iter  30 value 3569.621339\n",
      "final  value 3569.621339 \n",
      "converged\n"
     ]
    }
   ],
   "source": [
    "library(nnet) \n",
    "multi1=multinom(Sex~., data=abalone)"
   ]
  },
  {
   "cell_type": "code",
   "execution_count": 24,
   "metadata": {},
   "outputs": [
    {
     "data": {
      "text/html": [
       "<table>\n",
       "<thead><tr><th scope=col>Sex</th><th scope=col>Length</th><th scope=col>Diameter</th><th scope=col>Height</th><th scope=col>Whole.weight</th><th scope=col>Shucked.weight</th><th scope=col>Viscera.weight</th><th scope=col>Shell.weight</th><th scope=col>Rings</th></tr></thead>\n",
       "<tbody>\n",
       "\t<tr><td>M     </td><td>0.455 </td><td>0.365 </td><td>0.095 </td><td>0.5140</td><td>0.2245</td><td>0.1010</td><td>0.150 </td><td>15    </td></tr>\n",
       "\t<tr><td>M     </td><td>0.350 </td><td>0.265 </td><td>0.090 </td><td>0.2255</td><td>0.0995</td><td>0.0485</td><td>0.070 </td><td> 7    </td></tr>\n",
       "\t<tr><td>F     </td><td>0.530 </td><td>0.420 </td><td>0.135 </td><td>0.6770</td><td>0.2565</td><td>0.1415</td><td>0.210 </td><td> 9    </td></tr>\n",
       "\t<tr><td>M     </td><td>0.440 </td><td>0.365 </td><td>0.125 </td><td>0.5160</td><td>0.2155</td><td>0.1140</td><td>0.155 </td><td>10    </td></tr>\n",
       "\t<tr><td>I     </td><td>0.330 </td><td>0.255 </td><td>0.080 </td><td>0.2050</td><td>0.0895</td><td>0.0395</td><td>0.055 </td><td> 7    </td></tr>\n",
       "\t<tr><td>I     </td><td>0.425 </td><td>0.300 </td><td>0.095 </td><td>0.3515</td><td>0.1410</td><td>0.0775</td><td>0.120 </td><td> 8    </td></tr>\n",
       "</tbody>\n",
       "</table>\n"
      ],
      "text/latex": [
       "\\begin{tabular}{r|lllllllll}\n",
       " Sex & Length & Diameter & Height & Whole.weight & Shucked.weight & Viscera.weight & Shell.weight & Rings\\\\\n",
       "\\hline\n",
       "\t M      & 0.455  & 0.365  & 0.095  & 0.5140 & 0.2245 & 0.1010 & 0.150  & 15    \\\\\n",
       "\t M      & 0.350  & 0.265  & 0.090  & 0.2255 & 0.0995 & 0.0485 & 0.070  &  7    \\\\\n",
       "\t F      & 0.530  & 0.420  & 0.135  & 0.6770 & 0.2565 & 0.1415 & 0.210  &  9    \\\\\n",
       "\t M      & 0.440  & 0.365  & 0.125  & 0.5160 & 0.2155 & 0.1140 & 0.155  & 10    \\\\\n",
       "\t I      & 0.330  & 0.255  & 0.080  & 0.2050 & 0.0895 & 0.0395 & 0.055  &  7    \\\\\n",
       "\t I      & 0.425  & 0.300  & 0.095  & 0.3515 & 0.1410 & 0.0775 & 0.120  &  8    \\\\\n",
       "\\end{tabular}\n"
      ],
      "text/markdown": [
       "\n",
       "| Sex | Length | Diameter | Height | Whole.weight | Shucked.weight | Viscera.weight | Shell.weight | Rings |\n",
       "|---|---|---|---|---|---|---|---|---|\n",
       "| M      | 0.455  | 0.365  | 0.095  | 0.5140 | 0.2245 | 0.1010 | 0.150  | 15     |\n",
       "| M      | 0.350  | 0.265  | 0.090  | 0.2255 | 0.0995 | 0.0485 | 0.070  |  7     |\n",
       "| F      | 0.530  | 0.420  | 0.135  | 0.6770 | 0.2565 | 0.1415 | 0.210  |  9     |\n",
       "| M      | 0.440  | 0.365  | 0.125  | 0.5160 | 0.2155 | 0.1140 | 0.155  | 10     |\n",
       "| I      | 0.330  | 0.255  | 0.080  | 0.2050 | 0.0895 | 0.0395 | 0.055  |  7     |\n",
       "| I      | 0.425  | 0.300  | 0.095  | 0.3515 | 0.1410 | 0.0775 | 0.120  |  8     |\n",
       "\n"
      ],
      "text/plain": [
       "  Sex Length Diameter Height Whole.weight Shucked.weight Viscera.weight\n",
       "1 M   0.455  0.365    0.095  0.5140       0.2245         0.1010        \n",
       "2 M   0.350  0.265    0.090  0.2255       0.0995         0.0485        \n",
       "3 F   0.530  0.420    0.135  0.6770       0.2565         0.1415        \n",
       "4 M   0.440  0.365    0.125  0.5160       0.2155         0.1140        \n",
       "5 I   0.330  0.255    0.080  0.2050       0.0895         0.0395        \n",
       "6 I   0.425  0.300    0.095  0.3515       0.1410         0.0775        \n",
       "  Shell.weight Rings\n",
       "1 0.150        15   \n",
       "2 0.070         7   \n",
       "3 0.210         9   \n",
       "4 0.155        10   \n",
       "5 0.055         7   \n",
       "6 0.120         8   "
      ]
     },
     "metadata": {},
     "output_type": "display_data"
    }
   ],
   "source": [
    "head(abalone)"
   ]
  },
  {
   "cell_type": "markdown",
   "metadata": {},
   "source": [
    "Let us test our Multinomial model with data from the first row of our dataset"
   ]
  },
  {
   "cell_type": "code",
   "execution_count": 25,
   "metadata": {},
   "outputs": [
    {
     "data": {
      "text/html": [
       "<dl class=dl-horizontal>\n",
       "\t<dt>F</dt>\n",
       "\t\t<dd>0.288</dd>\n",
       "\t<dt>I</dt>\n",
       "\t\t<dd>0.235</dd>\n",
       "\t<dt>M</dt>\n",
       "\t\t<dd>0.477</dd>\n",
       "</dl>\n"
      ],
      "text/latex": [
       "\\begin{description*}\n",
       "\\item[F] 0.288\n",
       "\\item[I] 0.235\n",
       "\\item[M] 0.477\n",
       "\\end{description*}\n"
      ],
      "text/markdown": [
       "F\n",
       ":   0.288I\n",
       ":   0.235M\n",
       ":   0.477\n",
       "\n"
      ],
      "text/plain": [
       "    F     I     M \n",
       "0.288 0.235 0.477 "
      ]
     },
     "metadata": {},
     "output_type": "display_data"
    }
   ],
   "source": [
    "attach(abalone)\n",
    "round(predict(multi1, data.frame(Length=0.455, Diameter = 0.365, Height = 0.095, Whole.weight = 0.5140, Shucked.weight = 0.2245, Viscera.weight = 0.1010, Shell.weight = 0.150, Rings = 15), type='probs'),3)"
   ]
  },
  {
   "cell_type": "markdown",
   "metadata": {},
   "source": [
    "As expected the first row is most likely to be Male."
   ]
  },
  {
   "cell_type": "markdown",
   "metadata": {},
   "source": [
    "# Research Question #3:"
   ]
  },
  {
   "cell_type": "markdown",
   "metadata": {},
   "source": [
    "After doing some research I found that an abalone's age is approximately +1.5 the number of rings. Therefore, I created a separate column for abalone age across each specimen:"
   ]
  },
  {
   "cell_type": "code",
   "execution_count": 26,
   "metadata": {},
   "outputs": [
    {
     "data": {
      "text/html": [
       "<table>\n",
       "<thead><tr><th scope=col>Sex</th><th scope=col>Length</th><th scope=col>Diameter</th><th scope=col>Height</th><th scope=col>Whole.weight</th><th scope=col>Shucked.weight</th><th scope=col>Viscera.weight</th><th scope=col>Shell.weight</th><th scope=col>Rings</th><th scope=col>Age</th></tr></thead>\n",
       "<tbody>\n",
       "\t<tr><td>M     </td><td>0.455 </td><td>0.365 </td><td>0.095 </td><td>0.5140</td><td>0.2245</td><td>0.1010</td><td>0.150 </td><td>15    </td><td>16.5  </td></tr>\n",
       "\t<tr><td>M     </td><td>0.350 </td><td>0.265 </td><td>0.090 </td><td>0.2255</td><td>0.0995</td><td>0.0485</td><td>0.070 </td><td> 7    </td><td> 8.5  </td></tr>\n",
       "\t<tr><td>F     </td><td>0.530 </td><td>0.420 </td><td>0.135 </td><td>0.6770</td><td>0.2565</td><td>0.1415</td><td>0.210 </td><td> 9    </td><td>10.5  </td></tr>\n",
       "\t<tr><td>M     </td><td>0.440 </td><td>0.365 </td><td>0.125 </td><td>0.5160</td><td>0.2155</td><td>0.1140</td><td>0.155 </td><td>10    </td><td>11.5  </td></tr>\n",
       "\t<tr><td>I     </td><td>0.330 </td><td>0.255 </td><td>0.080 </td><td>0.2050</td><td>0.0895</td><td>0.0395</td><td>0.055 </td><td> 7    </td><td> 8.5  </td></tr>\n",
       "\t<tr><td>I     </td><td>0.425 </td><td>0.300 </td><td>0.095 </td><td>0.3515</td><td>0.1410</td><td>0.0775</td><td>0.120 </td><td> 8    </td><td> 9.5  </td></tr>\n",
       "</tbody>\n",
       "</table>\n"
      ],
      "text/latex": [
       "\\begin{tabular}{r|llllllllll}\n",
       " Sex & Length & Diameter & Height & Whole.weight & Shucked.weight & Viscera.weight & Shell.weight & Rings & Age\\\\\n",
       "\\hline\n",
       "\t M      & 0.455  & 0.365  & 0.095  & 0.5140 & 0.2245 & 0.1010 & 0.150  & 15     & 16.5  \\\\\n",
       "\t M      & 0.350  & 0.265  & 0.090  & 0.2255 & 0.0995 & 0.0485 & 0.070  &  7     &  8.5  \\\\\n",
       "\t F      & 0.530  & 0.420  & 0.135  & 0.6770 & 0.2565 & 0.1415 & 0.210  &  9     & 10.5  \\\\\n",
       "\t M      & 0.440  & 0.365  & 0.125  & 0.5160 & 0.2155 & 0.1140 & 0.155  & 10     & 11.5  \\\\\n",
       "\t I      & 0.330  & 0.255  & 0.080  & 0.2050 & 0.0895 & 0.0395 & 0.055  &  7     &  8.5  \\\\\n",
       "\t I      & 0.425  & 0.300  & 0.095  & 0.3515 & 0.1410 & 0.0775 & 0.120  &  8     &  9.5  \\\\\n",
       "\\end{tabular}\n"
      ],
      "text/markdown": [
       "\n",
       "| Sex | Length | Diameter | Height | Whole.weight | Shucked.weight | Viscera.weight | Shell.weight | Rings | Age |\n",
       "|---|---|---|---|---|---|---|---|---|---|\n",
       "| M      | 0.455  | 0.365  | 0.095  | 0.5140 | 0.2245 | 0.1010 | 0.150  | 15     | 16.5   |\n",
       "| M      | 0.350  | 0.265  | 0.090  | 0.2255 | 0.0995 | 0.0485 | 0.070  |  7     |  8.5   |\n",
       "| F      | 0.530  | 0.420  | 0.135  | 0.6770 | 0.2565 | 0.1415 | 0.210  |  9     | 10.5   |\n",
       "| M      | 0.440  | 0.365  | 0.125  | 0.5160 | 0.2155 | 0.1140 | 0.155  | 10     | 11.5   |\n",
       "| I      | 0.330  | 0.255  | 0.080  | 0.2050 | 0.0895 | 0.0395 | 0.055  |  7     |  8.5   |\n",
       "| I      | 0.425  | 0.300  | 0.095  | 0.3515 | 0.1410 | 0.0775 | 0.120  |  8     |  9.5   |\n",
       "\n"
      ],
      "text/plain": [
       "  Sex Length Diameter Height Whole.weight Shucked.weight Viscera.weight\n",
       "1 M   0.455  0.365    0.095  0.5140       0.2245         0.1010        \n",
       "2 M   0.350  0.265    0.090  0.2255       0.0995         0.0485        \n",
       "3 F   0.530  0.420    0.135  0.6770       0.2565         0.1415        \n",
       "4 M   0.440  0.365    0.125  0.5160       0.2155         0.1140        \n",
       "5 I   0.330  0.255    0.080  0.2050       0.0895         0.0395        \n",
       "6 I   0.425  0.300    0.095  0.3515       0.1410         0.0775        \n",
       "  Shell.weight Rings Age \n",
       "1 0.150        15    16.5\n",
       "2 0.070         7     8.5\n",
       "3 0.210         9    10.5\n",
       "4 0.155        10    11.5\n",
       "5 0.055         7     8.5\n",
       "6 0.120         8     9.5"
      ]
     },
     "metadata": {},
     "output_type": "display_data"
    }
   ],
   "source": [
    "abalone$Age <- abalone$Rings + 1.5\n",
    "head(abalone)"
   ]
  },
  {
   "cell_type": "markdown",
   "metadata": {},
   "source": [
    "## 3a\n",
    "\n",
    "Blacklip Abalone (the subspecies that this sample deals with) are known to have an average life expectancy of 14 years. Given this, let us create a column called Above_average (age) to indicate if an adult specimen (i.e. the Males and Females in this population) are older than the average life expectancy in the wild"
   ]
  },
  {
   "cell_type": "code",
   "execution_count": 27,
   "metadata": {},
   "outputs": [
    {
     "data": {
      "text/html": [
       "<table>\n",
       "<thead><tr><th scope=col>Sex</th><th scope=col>Length</th><th scope=col>Diameter</th><th scope=col>Height</th><th scope=col>Whole.weight</th><th scope=col>Shucked.weight</th><th scope=col>Viscera.weight</th><th scope=col>Shell.weight</th><th scope=col>Rings</th><th scope=col>Age</th><th scope=col>above_avg</th></tr></thead>\n",
       "<tbody>\n",
       "\t<tr><td>M     </td><td>0.455 </td><td>0.365 </td><td>0.095 </td><td>0.5140</td><td>0.2245</td><td>0.1010</td><td>0.150 </td><td>15    </td><td>16.5  </td><td>1     </td></tr>\n",
       "\t<tr><td>M     </td><td>0.350 </td><td>0.265 </td><td>0.090 </td><td>0.2255</td><td>0.0995</td><td>0.0485</td><td>0.070 </td><td> 7    </td><td> 8.5  </td><td>0     </td></tr>\n",
       "\t<tr><td>F     </td><td>0.530 </td><td>0.420 </td><td>0.135 </td><td>0.6770</td><td>0.2565</td><td>0.1415</td><td>0.210 </td><td> 9    </td><td>10.5  </td><td>0     </td></tr>\n",
       "\t<tr><td>M     </td><td>0.440 </td><td>0.365 </td><td>0.125 </td><td>0.5160</td><td>0.2155</td><td>0.1140</td><td>0.155 </td><td>10    </td><td>11.5  </td><td>0     </td></tr>\n",
       "\t<tr><td>I     </td><td>0.330 </td><td>0.255 </td><td>0.080 </td><td>0.2050</td><td>0.0895</td><td>0.0395</td><td>0.055 </td><td> 7    </td><td> 8.5  </td><td>0     </td></tr>\n",
       "\t<tr><td>I     </td><td>0.425 </td><td>0.300 </td><td>0.095 </td><td>0.3515</td><td>0.1410</td><td>0.0775</td><td>0.120 </td><td> 8    </td><td> 9.5  </td><td>0     </td></tr>\n",
       "</tbody>\n",
       "</table>\n"
      ],
      "text/latex": [
       "\\begin{tabular}{r|lllllllllll}\n",
       " Sex & Length & Diameter & Height & Whole.weight & Shucked.weight & Viscera.weight & Shell.weight & Rings & Age & above\\_avg\\\\\n",
       "\\hline\n",
       "\t M      & 0.455  & 0.365  & 0.095  & 0.5140 & 0.2245 & 0.1010 & 0.150  & 15     & 16.5   & 1     \\\\\n",
       "\t M      & 0.350  & 0.265  & 0.090  & 0.2255 & 0.0995 & 0.0485 & 0.070  &  7     &  8.5   & 0     \\\\\n",
       "\t F      & 0.530  & 0.420  & 0.135  & 0.6770 & 0.2565 & 0.1415 & 0.210  &  9     & 10.5   & 0     \\\\\n",
       "\t M      & 0.440  & 0.365  & 0.125  & 0.5160 & 0.2155 & 0.1140 & 0.155  & 10     & 11.5   & 0     \\\\\n",
       "\t I      & 0.330  & 0.255  & 0.080  & 0.2050 & 0.0895 & 0.0395 & 0.055  &  7     &  8.5   & 0     \\\\\n",
       "\t I      & 0.425  & 0.300  & 0.095  & 0.3515 & 0.1410 & 0.0775 & 0.120  &  8     &  9.5   & 0     \\\\\n",
       "\\end{tabular}\n"
      ],
      "text/markdown": [
       "\n",
       "| Sex | Length | Diameter | Height | Whole.weight | Shucked.weight | Viscera.weight | Shell.weight | Rings | Age | above_avg |\n",
       "|---|---|---|---|---|---|---|---|---|---|---|\n",
       "| M      | 0.455  | 0.365  | 0.095  | 0.5140 | 0.2245 | 0.1010 | 0.150  | 15     | 16.5   | 1      |\n",
       "| M      | 0.350  | 0.265  | 0.090  | 0.2255 | 0.0995 | 0.0485 | 0.070  |  7     |  8.5   | 0      |\n",
       "| F      | 0.530  | 0.420  | 0.135  | 0.6770 | 0.2565 | 0.1415 | 0.210  |  9     | 10.5   | 0      |\n",
       "| M      | 0.440  | 0.365  | 0.125  | 0.5160 | 0.2155 | 0.1140 | 0.155  | 10     | 11.5   | 0      |\n",
       "| I      | 0.330  | 0.255  | 0.080  | 0.2050 | 0.0895 | 0.0395 | 0.055  |  7     |  8.5   | 0      |\n",
       "| I      | 0.425  | 0.300  | 0.095  | 0.3515 | 0.1410 | 0.0775 | 0.120  |  8     |  9.5   | 0      |\n",
       "\n"
      ],
      "text/plain": [
       "  Sex Length Diameter Height Whole.weight Shucked.weight Viscera.weight\n",
       "1 M   0.455  0.365    0.095  0.5140       0.2245         0.1010        \n",
       "2 M   0.350  0.265    0.090  0.2255       0.0995         0.0485        \n",
       "3 F   0.530  0.420    0.135  0.6770       0.2565         0.1415        \n",
       "4 M   0.440  0.365    0.125  0.5160       0.2155         0.1140        \n",
       "5 I   0.330  0.255    0.080  0.2050       0.0895         0.0395        \n",
       "6 I   0.425  0.300    0.095  0.3515       0.1410         0.0775        \n",
       "  Shell.weight Rings Age  above_avg\n",
       "1 0.150        15    16.5 1        \n",
       "2 0.070         7     8.5 0        \n",
       "3 0.210         9    10.5 0        \n",
       "4 0.155        10    11.5 0        \n",
       "5 0.055         7     8.5 0        \n",
       "6 0.120         8     9.5 0        "
      ]
     },
     "metadata": {},
     "output_type": "display_data"
    }
   ],
   "source": [
    "for (i in 1:nrow(abalone)) {\n",
    "    if (abalone$Age[i] > 14) {\n",
    "        abalone$above_avg[i] <- 1\n",
    "    }\n",
    "    else {\n",
    "        abalone$above_avg[i] <- 0\n",
    "    }\n",
    "\n",
    "}\n",
    "head(abalone)"
   ]
  },
  {
   "cell_type": "markdown",
   "metadata": {},
   "source": [
    "## 3b\n",
    "\n",
    "Let us construct a chi square test in order to see if there is a relationship between Sex and a specimen having an above_avg age. In essence we are trying to gauge if there are more Males that are older or more Females that are older. For this chi square tests Infant data is not taken into account since by default they will be younger than their adult counterparts. First let's see if the 2 variables are independent of one another."
   ]
  },
  {
   "cell_type": "code",
   "execution_count": 28,
   "metadata": {},
   "outputs": [
    {
     "data": {
      "text/plain": [
       "\n",
       "\tPearson's Chi-squared test\n",
       "\n",
       "data:  table(abalone$Sex, abalone$above_avg)\n",
       "X-squared = 184.45, df = 2, p-value < 2.2e-16\n"
      ]
     },
     "metadata": {},
     "output_type": "display_data"
    }
   ],
   "source": [
    "test <- chisq.test(table(abalone$Sex, abalone$above_avg))\n",
    "test\n"
   ]
  },
  {
   "cell_type": "markdown",
   "metadata": {},
   "source": [
    "Since we get a p-value less than the significance level of 0.05, we reject the null hypothesis and conclude that the two variables are dependent. Let us proceed to recognize whether more Male or Female abalone have older individuals."
   ]
  },
  {
   "cell_type": "code",
   "execution_count": 29,
   "metadata": {},
   "outputs": [
    {
     "data": {
      "text/html": [
       "<table>\n",
       "<thead><tr><th></th><th scope=col>Sex</th><th scope=col>Length</th><th scope=col>Diameter</th><th scope=col>Height</th><th scope=col>Whole.weight</th><th scope=col>Shucked.weight</th><th scope=col>Viscera.weight</th><th scope=col>Shell.weight</th><th scope=col>Rings</th><th scope=col>Age</th><th scope=col>above_avg</th></tr></thead>\n",
       "<tbody>\n",
       "\t<tr><th scope=row>1</th><td>M     </td><td>0.455 </td><td>0.365 </td><td>0.095 </td><td>0.5140</td><td>0.2245</td><td>0.1010</td><td>0.150 </td><td>15    </td><td>16.5  </td><td>1     </td></tr>\n",
       "\t<tr><th scope=row>2</th><td>M     </td><td>0.350 </td><td>0.265 </td><td>0.090 </td><td>0.2255</td><td>0.0995</td><td>0.0485</td><td>0.070 </td><td> 7    </td><td> 8.5  </td><td>0     </td></tr>\n",
       "\t<tr><th scope=row>3</th><td>F     </td><td>0.530 </td><td>0.420 </td><td>0.135 </td><td>0.6770</td><td>0.2565</td><td>0.1415</td><td>0.210 </td><td> 9    </td><td>10.5  </td><td>0     </td></tr>\n",
       "\t<tr><th scope=row>4</th><td>M     </td><td>0.440 </td><td>0.365 </td><td>0.125 </td><td>0.5160</td><td>0.2155</td><td>0.1140</td><td>0.155 </td><td>10    </td><td>11.5  </td><td>0     </td></tr>\n",
       "\t<tr><th scope=row>7</th><td>F     </td><td>0.530 </td><td>0.415 </td><td>0.150 </td><td>0.7775</td><td>0.2370</td><td>0.1415</td><td>0.330 </td><td>20    </td><td>21.5  </td><td>1     </td></tr>\n",
       "\t<tr><th scope=row>8</th><td>F     </td><td>0.545 </td><td>0.425 </td><td>0.125 </td><td>0.7680</td><td>0.2940</td><td>0.1495</td><td>0.260 </td><td>16    </td><td>17.5  </td><td>1     </td></tr>\n",
       "</tbody>\n",
       "</table>\n"
      ],
      "text/latex": [
       "\\begin{tabular}{r|lllllllllll}\n",
       "  & Sex & Length & Diameter & Height & Whole.weight & Shucked.weight & Viscera.weight & Shell.weight & Rings & Age & above\\_avg\\\\\n",
       "\\hline\n",
       "\t1 & M      & 0.455  & 0.365  & 0.095  & 0.5140 & 0.2245 & 0.1010 & 0.150  & 15     & 16.5   & 1     \\\\\n",
       "\t2 & M      & 0.350  & 0.265  & 0.090  & 0.2255 & 0.0995 & 0.0485 & 0.070  &  7     &  8.5   & 0     \\\\\n",
       "\t3 & F      & 0.530  & 0.420  & 0.135  & 0.6770 & 0.2565 & 0.1415 & 0.210  &  9     & 10.5   & 0     \\\\\n",
       "\t4 & M      & 0.440  & 0.365  & 0.125  & 0.5160 & 0.2155 & 0.1140 & 0.155  & 10     & 11.5   & 0     \\\\\n",
       "\t7 & F      & 0.530  & 0.415  & 0.150  & 0.7775 & 0.2370 & 0.1415 & 0.330  & 20     & 21.5   & 1     \\\\\n",
       "\t8 & F      & 0.545  & 0.425  & 0.125  & 0.7680 & 0.2940 & 0.1495 & 0.260  & 16     & 17.5   & 1     \\\\\n",
       "\\end{tabular}\n"
      ],
      "text/markdown": [
       "\n",
       "| <!--/--> | Sex | Length | Diameter | Height | Whole.weight | Shucked.weight | Viscera.weight | Shell.weight | Rings | Age | above_avg |\n",
       "|---|---|---|---|---|---|---|---|---|---|---|---|\n",
       "| 1 | M      | 0.455  | 0.365  | 0.095  | 0.5140 | 0.2245 | 0.1010 | 0.150  | 15     | 16.5   | 1      |\n",
       "| 2 | M      | 0.350  | 0.265  | 0.090  | 0.2255 | 0.0995 | 0.0485 | 0.070  |  7     |  8.5   | 0      |\n",
       "| 3 | F      | 0.530  | 0.420  | 0.135  | 0.6770 | 0.2565 | 0.1415 | 0.210  |  9     | 10.5   | 0      |\n",
       "| 4 | M      | 0.440  | 0.365  | 0.125  | 0.5160 | 0.2155 | 0.1140 | 0.155  | 10     | 11.5   | 0      |\n",
       "| 7 | F      | 0.530  | 0.415  | 0.150  | 0.7775 | 0.2370 | 0.1415 | 0.330  | 20     | 21.5   | 1      |\n",
       "| 8 | F      | 0.545  | 0.425  | 0.125  | 0.7680 | 0.2940 | 0.1495 | 0.260  | 16     | 17.5   | 1      |\n",
       "\n"
      ],
      "text/plain": [
       "  Sex Length Diameter Height Whole.weight Shucked.weight Viscera.weight\n",
       "1 M   0.455  0.365    0.095  0.5140       0.2245         0.1010        \n",
       "2 M   0.350  0.265    0.090  0.2255       0.0995         0.0485        \n",
       "3 F   0.530  0.420    0.135  0.6770       0.2565         0.1415        \n",
       "4 M   0.440  0.365    0.125  0.5160       0.2155         0.1140        \n",
       "7 F   0.530  0.415    0.150  0.7775       0.2370         0.1415        \n",
       "8 F   0.545  0.425    0.125  0.7680       0.2940         0.1495        \n",
       "  Shell.weight Rings Age  above_avg\n",
       "1 0.150        15    16.5 1        \n",
       "2 0.070         7     8.5 0        \n",
       "3 0.210         9    10.5 0        \n",
       "4 0.155        10    11.5 0        \n",
       "7 0.330        20    21.5 1        \n",
       "8 0.260        16    17.5 1        "
      ]
     },
     "metadata": {},
     "output_type": "display_data"
    }
   ],
   "source": [
    "abalone_Adults <- abalone[abalone[\"Sex\"] == 'M' | abalone[\"Sex\"] == 'F',]\n",
    "head(abalone_Adults)"
   ]
  },
  {
   "cell_type": "code",
   "execution_count": 30,
   "metadata": {},
   "outputs": [
    {
     "data": {
      "text/plain": [
       "\n",
       "\t2-sample test for equality of proportions with continuity correction\n",
       "\n",
       "data:  c(Males, Females) out of c(denum, denum)\n",
       "X-squared = 34.145, df = 1, p-value = 2.558e-09\n",
       "alternative hypothesis: greater\n",
       "95 percent confidence interval:\n",
       " 0.0558237 1.0000000\n",
       "sample estimates:\n",
       "   prop 1    prop 2 \n",
       "0.5389771 0.4610229 \n"
      ]
     },
     "metadata": {},
     "output_type": "display_data"
    }
   ],
   "source": [
    "Males <- nrow(abalone_Adults[abalone_Adults[\"Sex\"] == 'M',])\n",
    "Females <- nrow(abalone_Adults[abalone_Adults[\"Sex\"] == 'F',])\n",
    "denum <- nrow(abalone_Adults)\n",
    "prop.test(x=c(Males, Females), n=c(denum, denum), alternative='greater')\n",
    "# Ho: The proportion of Male Abalone above average life expectancy is same as proportion of Female Abalone \n",
    "# above average life expectancy\n",
    "# p-value: 5.116e-09 < 0.05"
   ]
  },
  {
   "cell_type": "markdown",
   "metadata": {},
   "source": [
    "\"The p-value is greater than alpha, so reject Ho. We have sufficient evidence (at alpha=.05) that the population proportion of Male Abalone above average life expectancy is greater than the population proportion of Female Abalone above the average life expectancy.\""
   ]
  },
  {
   "cell_type": "markdown",
   "metadata": {},
   "source": [
    "## 3c\n",
    "\n",
    "As I was looking at the dataset I noticed that Shucked.weight + Viscera.weight + Shell.weight do NOT add up to Whole.weight. Let's create a column called weight_delta to make note of this change.\n",
    "\n",
    "Is this unaccounted weight differ from Sex to Sex or is it likely the result of human error?\n",
    "\n",
    "This new variable is a weight predictors consisting of water/blood likely lost during the process of gutting and cleaning the abalone. Let's investigate this potential error and see if there is any relationship between Whole.weight of an abalone and the weight_delta (i.e. weight accounted for) across different species'"
   ]
  },
  {
   "cell_type": "code",
   "execution_count": 31,
   "metadata": {},
   "outputs": [
    {
     "data": {
      "text/html": [
       "<table>\n",
       "<thead><tr><th scope=col>Sex</th><th scope=col>Length</th><th scope=col>Diameter</th><th scope=col>Height</th><th scope=col>Whole.weight</th><th scope=col>Shucked.weight</th><th scope=col>Viscera.weight</th><th scope=col>Shell.weight</th><th scope=col>Rings</th><th scope=col>Age</th><th scope=col>above_avg</th><th scope=col>weight_delta</th></tr></thead>\n",
       "<tbody>\n",
       "\t<tr><td>M     </td><td>0.455 </td><td>0.365 </td><td>0.095 </td><td>0.5140</td><td>0.2245</td><td>0.1010</td><td>0.150 </td><td>15    </td><td>16.5  </td><td>1     </td><td>0.0385</td></tr>\n",
       "\t<tr><td>M     </td><td>0.350 </td><td>0.265 </td><td>0.090 </td><td>0.2255</td><td>0.0995</td><td>0.0485</td><td>0.070 </td><td> 7    </td><td> 8.5  </td><td>0     </td><td>0.0075</td></tr>\n",
       "\t<tr><td>F     </td><td>0.530 </td><td>0.420 </td><td>0.135 </td><td>0.6770</td><td>0.2565</td><td>0.1415</td><td>0.210 </td><td> 9    </td><td>10.5  </td><td>0     </td><td>0.0690</td></tr>\n",
       "\t<tr><td>M     </td><td>0.440 </td><td>0.365 </td><td>0.125 </td><td>0.5160</td><td>0.2155</td><td>0.1140</td><td>0.155 </td><td>10    </td><td>11.5  </td><td>0     </td><td>0.0315</td></tr>\n",
       "\t<tr><td>I     </td><td>0.330 </td><td>0.255 </td><td>0.080 </td><td>0.2050</td><td>0.0895</td><td>0.0395</td><td>0.055 </td><td> 7    </td><td> 8.5  </td><td>0     </td><td>0.0210</td></tr>\n",
       "\t<tr><td>I     </td><td>0.425 </td><td>0.300 </td><td>0.095 </td><td>0.3515</td><td>0.1410</td><td>0.0775</td><td>0.120 </td><td> 8    </td><td> 9.5  </td><td>0     </td><td>0.0130</td></tr>\n",
       "</tbody>\n",
       "</table>\n"
      ],
      "text/latex": [
       "\\begin{tabular}{r|llllllllllll}\n",
       " Sex & Length & Diameter & Height & Whole.weight & Shucked.weight & Viscera.weight & Shell.weight & Rings & Age & above\\_avg & weight\\_delta\\\\\n",
       "\\hline\n",
       "\t M      & 0.455  & 0.365  & 0.095  & 0.5140 & 0.2245 & 0.1010 & 0.150  & 15     & 16.5   & 1      & 0.0385\\\\\n",
       "\t M      & 0.350  & 0.265  & 0.090  & 0.2255 & 0.0995 & 0.0485 & 0.070  &  7     &  8.5   & 0      & 0.0075\\\\\n",
       "\t F      & 0.530  & 0.420  & 0.135  & 0.6770 & 0.2565 & 0.1415 & 0.210  &  9     & 10.5   & 0      & 0.0690\\\\\n",
       "\t M      & 0.440  & 0.365  & 0.125  & 0.5160 & 0.2155 & 0.1140 & 0.155  & 10     & 11.5   & 0      & 0.0315\\\\\n",
       "\t I      & 0.330  & 0.255  & 0.080  & 0.2050 & 0.0895 & 0.0395 & 0.055  &  7     &  8.5   & 0      & 0.0210\\\\\n",
       "\t I      & 0.425  & 0.300  & 0.095  & 0.3515 & 0.1410 & 0.0775 & 0.120  &  8     &  9.5   & 0      & 0.0130\\\\\n",
       "\\end{tabular}\n"
      ],
      "text/markdown": [
       "\n",
       "| Sex | Length | Diameter | Height | Whole.weight | Shucked.weight | Viscera.weight | Shell.weight | Rings | Age | above_avg | weight_delta |\n",
       "|---|---|---|---|---|---|---|---|---|---|---|---|\n",
       "| M      | 0.455  | 0.365  | 0.095  | 0.5140 | 0.2245 | 0.1010 | 0.150  | 15     | 16.5   | 1      | 0.0385 |\n",
       "| M      | 0.350  | 0.265  | 0.090  | 0.2255 | 0.0995 | 0.0485 | 0.070  |  7     |  8.5   | 0      | 0.0075 |\n",
       "| F      | 0.530  | 0.420  | 0.135  | 0.6770 | 0.2565 | 0.1415 | 0.210  |  9     | 10.5   | 0      | 0.0690 |\n",
       "| M      | 0.440  | 0.365  | 0.125  | 0.5160 | 0.2155 | 0.1140 | 0.155  | 10     | 11.5   | 0      | 0.0315 |\n",
       "| I      | 0.330  | 0.255  | 0.080  | 0.2050 | 0.0895 | 0.0395 | 0.055  |  7     |  8.5   | 0      | 0.0210 |\n",
       "| I      | 0.425  | 0.300  | 0.095  | 0.3515 | 0.1410 | 0.0775 | 0.120  |  8     |  9.5   | 0      | 0.0130 |\n",
       "\n"
      ],
      "text/plain": [
       "  Sex Length Diameter Height Whole.weight Shucked.weight Viscera.weight\n",
       "1 M   0.455  0.365    0.095  0.5140       0.2245         0.1010        \n",
       "2 M   0.350  0.265    0.090  0.2255       0.0995         0.0485        \n",
       "3 F   0.530  0.420    0.135  0.6770       0.2565         0.1415        \n",
       "4 M   0.440  0.365    0.125  0.5160       0.2155         0.1140        \n",
       "5 I   0.330  0.255    0.080  0.2050       0.0895         0.0395        \n",
       "6 I   0.425  0.300    0.095  0.3515       0.1410         0.0775        \n",
       "  Shell.weight Rings Age  above_avg weight_delta\n",
       "1 0.150        15    16.5 1         0.0385      \n",
       "2 0.070         7     8.5 0         0.0075      \n",
       "3 0.210         9    10.5 0         0.0690      \n",
       "4 0.155        10    11.5 0         0.0315      \n",
       "5 0.055         7     8.5 0         0.0210      \n",
       "6 0.120         8     9.5 0         0.0130      "
      ]
     },
     "metadata": {},
     "output_type": "display_data"
    }
   ],
   "source": [
    "abalone$weight_delta <- abalone$Whole.weight - (abalone$Viscera.weight + abalone$Shucked.weight + abalone$Shell.weight)\n",
    "head(abalone)"
   ]
  },
  {
   "cell_type": "code",
   "execution_count": 32,
   "metadata": {},
   "outputs": [
    {
     "data": {
      "text/plain": [
       "\n",
       "\tPearson's product-moment correlation\n",
       "\n",
       "data:  F$Whole.weight and F$weight_delta\n",
       "t = 23.283, df = 1305, p-value < 2.2e-16\n",
       "alternative hypothesis: true correlation is not equal to 0\n",
       "99 percent confidence interval:\n",
       " 0.4894127 0.5901849\n",
       "sample estimates:\n",
       "      cor \n",
       "0.5417426 \n"
      ]
     },
     "metadata": {},
     "output_type": "display_data"
    }
   ],
   "source": [
    "F <- abalone[abalone[\"Sex\"] == 'F',]\n",
    "cor.test(F$Whole.weight, F$weight_delta, alternative='two.sided', conf.level = 0.99)"
   ]
  },
  {
   "cell_type": "code",
   "execution_count": 33,
   "metadata": {},
   "outputs": [
    {
     "data": {
      "text/plain": [
       "\n",
       "\tPearson's product-moment correlation\n",
       "\n",
       "data:  I$Whole.weight and I$weight_delta\n",
       "t = 23.221, df = 1340, p-value < 2.2e-16\n",
       "alternative hypothesis: true correlation is not equal to 0\n",
       "99 percent confidence interval:\n",
       " 0.4835972 0.5839620\n",
       "sample estimates:\n",
       "      cor \n",
       "0.5356687 \n"
      ]
     },
     "metadata": {},
     "output_type": "display_data"
    }
   ],
   "source": [
    "I <- abalone[abalone[\"Sex\"] == 'I',]\n",
    "cor.test(I$Whole.weight, I$weight_delta, alternative='two.sided', conf.level = 0.99)"
   ]
  },
  {
   "cell_type": "code",
   "execution_count": 34,
   "metadata": {},
   "outputs": [
    {
     "data": {
      "text/plain": [
       "\n",
       "\tPearson's product-moment correlation\n",
       "\n",
       "data:  M$Whole.weight and M$weight_delta\n",
       "t = 26.673, df = 1526, p-value < 2.2e-16\n",
       "alternative hypothesis: true correlation is not equal to 0\n",
       "99 percent confidence interval:\n",
       " 0.5172400 0.6072067\n",
       "sample estimates:\n",
       "      cor \n",
       "0.5638941 \n"
      ]
     },
     "metadata": {},
     "output_type": "display_data"
    }
   ],
   "source": [
    "M <- abalone[abalone[\"Sex\"] == 'M',]\n",
    "cor.test(M$Whole.weight, M$weight_delta, alternative='two.sided', conf.level = 0.99)"
   ]
  },
  {
   "cell_type": "markdown",
   "metadata": {},
   "source": [
    "All 3 correlation coefficients show that across all Sex' there is a moderate positive linear correlation between the amount of uncounted for weight (i.e. weight_delta) and Whole.weight of the specimen. This likely means that this unaccounted for weight can be attributed to consistent human error during the shucking process wherein water/blood was spilt without being weighed first."
   ]
  }
 ],
 "metadata": {
  "kernelspec": {
   "display_name": "R",
   "language": "R",
   "name": "ir"
  },
  "language_info": {
   "codemirror_mode": "r",
   "file_extension": ".r",
   "mimetype": "text/x-r-source",
   "name": "R",
   "pygments_lexer": "r",
   "version": "3.6.1"
  }
 },
 "nbformat": 4,
 "nbformat_minor": 2
}
